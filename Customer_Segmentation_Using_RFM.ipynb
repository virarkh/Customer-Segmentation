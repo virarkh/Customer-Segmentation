{
 "cells": [
  {
   "cell_type": "markdown",
   "id": "f709a45f",
   "metadata": {
    "id": "f709a45f"
   },
   "source": [
    "# Use Case Summary"
   ]
  },
  {
   "cell_type": "markdown",
   "id": "fe1cd061",
   "metadata": {
    "id": "fe1cd061"
   },
   "source": [
    "## Objective Statement\n",
    "- Get business insight about how growth the orders from 2011 to 2014 by year and month.\n",
    "- Get business insight about when monthly peak orders happened from January 2011 to December 2014.\n",
    "- Get business insight about when peak date orders happend from January 2011 to December 2014\n",
    "- To create customer segmentation using RFM Quantile.\n",
    "- Get business insight for each customers based on label defined such as Loyal Customer, Big Spenders, Lost Cheap Customers, Best Customers and Almost Lost."
   ]
  },
  {
   "cell_type": "markdown",
   "id": "88d09322",
   "metadata": {
    "id": "88d09322"
   },
   "source": [
    "## Challenges\n",
    "- Large size of data, can not be maintained by excel or spreadsheet.\n",
    "- Dataset have an incorrect data type.\n",
    "- There is no information where the orders happend."
   ]
  },
  {
   "cell_type": "markdown",
   "id": "090c4f5e",
   "metadata": {
    "id": "090c4f5e"
   },
   "source": [
    "## Methodology / Analytic Technique\n",
    "- Descriptive Analysis: to find out information on current conditions based on the data that has been collected.\n",
    "- Graph Analysis: provide information from the graph.\n",
    "- Segment Analysis : RFM Quantile."
   ]
  },
  {
   "cell_type": "markdown",
   "id": "ee69cacf",
   "metadata": {
    "id": "ee69cacf"
   },
   "source": [
    "## Business Benefit\n",
    "- Know how to treat customers based on their behavior when customers order. \n",
    "- Help the business team provide products or services based on the behavior of each customer."
   ]
  },
  {
   "cell_type": "markdown",
   "id": "bc6125c4",
   "metadata": {
    "id": "bc6125c4"
   },
   "source": [
    "## Expected Outcome\n",
    "- Know how growth the order from 2011 to 2014 by year and month.\n",
    "- Know when monthly peak from January 2011 to December 2014.\n",
    "- Know when peak date from January 2011 to December 2014.\n",
    "- Create customer segmentation using RFM Quartile.\n",
    "- Know the label each customers based on label defined such as Loyal Customer, Big Spenders, Lost Cheap Customers, Best Customers and Almost Lost. "
   ]
  },
  {
   "cell_type": "markdown",
   "id": "97ca686f",
   "metadata": {
    "id": "97ca686f"
   },
   "source": [
    "# Business Understanding"
   ]
  },
  {
   "cell_type": "markdown",
   "id": "o493QJduyPmB",
   "metadata": {
    "id": "o493QJduyPmB"
   },
   "source": [
    "**Retail business** is a business that involves selling goods or services to customers in units or retail. Consumers who buy products or services on a retail basis aim to consume them or use them personally and do not resell them. So from here we get business questions about customer segmentation as follows:\n",
    "- How growth the order from 2011 to 2014 by year dan month ?\n",
    "- When monthly peak orders happend from January 2011 to December 2014 ?\n",
    "- When peak date orders happend from January 2011 to December 2014 ?\n",
    "- How create customer segmentation using RFM Quartile ?\n",
    "- How many customers based on label defined such as Loyal Customer, Big Spenders, Lost Cheap Customers, Best Customers and Almost Lost ?"
   ]
  },
  {
   "cell_type": "markdown",
   "id": "6bcb798e",
   "metadata": {
    "id": "6bcb798e"
   },
   "source": [
    "# Data Understanding"
   ]
  },
  {
   "cell_type": "markdown",
   "id": "2f4747c1",
   "metadata": {
    "id": "2f4747c1"
   },
   "source": [
    "## Source Data\n",
    "The dataset has 4 columns and 5009 rows. This data from 4 January 2011 to 31 December 2014. \n",
    "From https://www.kaggle.com/datasets/siddinho/sample-orders-dataset-retail"
   ]
  },
  {
   "cell_type": "markdown",
   "id": "c3315880",
   "metadata": {
    "id": "c3315880"
   },
   "source": [
    "## Data Dictionary\n",
    "- order_date : the day when customers order\n",
    "- order_id : unique number for each order\n",
    "- customer : people who ordered\n",
    "- grand_total : total items ordered by customers"
   ]
  },
  {
   "cell_type": "markdown",
   "id": "a80c1ffa",
   "metadata": {
    "id": "a80c1ffa"
   },
   "source": [
    "# Data Preparation"
   ]
  },
  {
   "cell_type": "markdown",
   "id": "1b900731",
   "metadata": {
    "id": "1b900731"
   },
   "source": [
    "- Programming Language : Python Version 3.9.12\n",
    "- Library : pandas, numpy, matplotlib, seaborn, datetime, scipy, sklearn, plotly, feature_engine, warning "
   ]
  },
  {
   "cell_type": "markdown",
   "id": "e041b684",
   "metadata": {
    "id": "e041b684"
   },
   "source": [
    "## Import Library"
   ]
  },
  {
   "cell_type": "code",
   "execution_count": 1,
   "id": "069e189e",
   "metadata": {},
   "outputs": [],
   "source": [
    "#! pip install kaleido"
   ]
  },
  {
   "cell_type": "code",
   "execution_count": 2,
   "id": "b5b162b6",
   "metadata": {
    "id": "b5b162b6"
   },
   "outputs": [],
   "source": [
    "import pandas as pd\n",
    "import numpy as np\n",
    "import matplotlib.pyplot as plt\n",
    "import seaborn as sns\n",
    "\n",
    "import datetime as dt\n",
    "from datetime import datetime as dt2\n",
    "from datetime import timedelta as td\n",
    "from datetime import time as tm\n",
    "\n",
    "from scipy import stats\n",
    "from sklearn.preprocessing import StandardScaler\n",
    "from sklearn.manifold import TSNE\n",
    "\n",
    "import plotly.io as pio\n",
    "pio.renderers.default = 'iframe'\n",
    "import plotly.offline as pyoff\n",
    "import plotly.graph_objs as go\n",
    "import plotly.express as px\n",
    "\n",
    "import feature_engine\n",
    "from feature_engine.outliers import Winsorizer\n",
    "\n",
    "from sklearn.cluster import KMeans\n",
    "from sklearn.cluster import AgglomerativeClustering\n",
    "import scipy.cluster.hierarchy as sch\n",
    "from sklearn.metrics import davies_bouldin_score\n",
    "\n",
    "import warnings\n",
    "warnings.filterwarnings('ignore')"
   ]
  },
  {
   "cell_type": "markdown",
   "id": "5a55694c",
   "metadata": {
    "id": "5a55694c"
   },
   "source": [
    "## Data Profiling"
   ]
  },
  {
   "cell_type": "code",
   "execution_count": 3,
   "id": "902ea6ca",
   "metadata": {
    "id": "902ea6ca"
   },
   "outputs": [],
   "source": [
    "df = pd.read_csv('dataset/data_orders.csv')"
   ]
  },
  {
   "cell_type": "code",
   "execution_count": 4,
   "id": "21f4a58b",
   "metadata": {
    "colab": {
     "base_uri": "https://localhost:8080/",
     "height": 206
    },
    "id": "21f4a58b",
    "outputId": "72726f36-4ff3-42c8-9dc3-c9f805386f8e"
   },
   "outputs": [
    {
     "data": {
      "text/html": [
       "<div>\n",
       "<style scoped>\n",
       "    .dataframe tbody tr th:only-of-type {\n",
       "        vertical-align: middle;\n",
       "    }\n",
       "\n",
       "    .dataframe tbody tr th {\n",
       "        vertical-align: top;\n",
       "    }\n",
       "\n",
       "    .dataframe thead th {\n",
       "        text-align: right;\n",
       "    }\n",
       "</style>\n",
       "<table border=\"1\" class=\"dataframe\">\n",
       "  <thead>\n",
       "    <tr style=\"text-align: right;\">\n",
       "      <th></th>\n",
       "      <th>order_date</th>\n",
       "      <th>order_id</th>\n",
       "      <th>customer</th>\n",
       "      <th>grand_total</th>\n",
       "    </tr>\n",
       "  </thead>\n",
       "  <tbody>\n",
       "    <tr>\n",
       "      <th>0</th>\n",
       "      <td>9/7/2011</td>\n",
       "      <td>CA-2011-100006</td>\n",
       "      <td>Dennis Kane</td>\n",
       "      <td>378</td>\n",
       "    </tr>\n",
       "    <tr>\n",
       "      <th>1</th>\n",
       "      <td>7/8/2011</td>\n",
       "      <td>CA-2011-100090</td>\n",
       "      <td>Ed Braxton</td>\n",
       "      <td>699</td>\n",
       "    </tr>\n",
       "    <tr>\n",
       "      <th>2</th>\n",
       "      <td>3/14/2011</td>\n",
       "      <td>CA-2011-100293</td>\n",
       "      <td>Neil Franzšsisch</td>\n",
       "      <td>91</td>\n",
       "    </tr>\n",
       "    <tr>\n",
       "      <th>3</th>\n",
       "      <td>1/29/2011</td>\n",
       "      <td>CA-2011-100328</td>\n",
       "      <td>Jasper Cacioppo</td>\n",
       "      <td>4</td>\n",
       "    </tr>\n",
       "    <tr>\n",
       "      <th>4</th>\n",
       "      <td>4/8/2011</td>\n",
       "      <td>CA-2011-100363</td>\n",
       "      <td>Jim Mitchum</td>\n",
       "      <td>21</td>\n",
       "    </tr>\n",
       "  </tbody>\n",
       "</table>\n",
       "</div>"
      ],
      "text/plain": [
       "  order_date        order_id          customer  grand_total\n",
       "0   9/7/2011  CA-2011-100006       Dennis Kane          378\n",
       "1   7/8/2011  CA-2011-100090        Ed Braxton          699\n",
       "2  3/14/2011  CA-2011-100293  Neil Franzšsisch           91\n",
       "3  1/29/2011  CA-2011-100328   Jasper Cacioppo            4\n",
       "4   4/8/2011  CA-2011-100363       Jim Mitchum           21"
      ]
     },
     "execution_count": 4,
     "metadata": {},
     "output_type": "execute_result"
    }
   ],
   "source": [
    "df.head()"
   ]
  },
  {
   "cell_type": "code",
   "execution_count": 5,
   "id": "0e912191",
   "metadata": {
    "colab": {
     "base_uri": "https://localhost:8080/"
    },
    "id": "0e912191",
    "outputId": "fdaeb3b2-9df3-47fa-8079-d5f0e5f24720"
   },
   "outputs": [
    {
     "name": "stdout",
     "output_type": "stream",
     "text": [
      "<class 'pandas.core.frame.DataFrame'>\n",
      "RangeIndex: 5009 entries, 0 to 5008\n",
      "Data columns (total 4 columns):\n",
      " #   Column       Non-Null Count  Dtype \n",
      "---  ------       --------------  ----- \n",
      " 0   order_date   5009 non-null   object\n",
      " 1   order_id     5009 non-null   object\n",
      " 2   customer     5009 non-null   object\n",
      " 3   grand_total  5009 non-null   int64 \n",
      "dtypes: int64(1), object(3)\n",
      "memory usage: 156.7+ KB\n"
     ]
    }
   ],
   "source": [
    "df.info()"
   ]
  },
  {
   "cell_type": "code",
   "execution_count": 6,
   "id": "6f0ad7d0",
   "metadata": {
    "colab": {
     "base_uri": "https://localhost:8080/",
     "height": 300
    },
    "id": "6f0ad7d0",
    "outputId": "8e22ff9f-19ac-4189-e95f-a77f4dc8aae4"
   },
   "outputs": [
    {
     "data": {
      "text/html": [
       "<div>\n",
       "<style scoped>\n",
       "    .dataframe tbody tr th:only-of-type {\n",
       "        vertical-align: middle;\n",
       "    }\n",
       "\n",
       "    .dataframe tbody tr th {\n",
       "        vertical-align: top;\n",
       "    }\n",
       "\n",
       "    .dataframe thead th {\n",
       "        text-align: right;\n",
       "    }\n",
       "</style>\n",
       "<table border=\"1\" class=\"dataframe\">\n",
       "  <thead>\n",
       "    <tr style=\"text-align: right;\">\n",
       "      <th></th>\n",
       "      <th>grand_total</th>\n",
       "    </tr>\n",
       "  </thead>\n",
       "  <tbody>\n",
       "    <tr>\n",
       "      <th>count</th>\n",
       "      <td>5009.000000</td>\n",
       "    </tr>\n",
       "    <tr>\n",
       "      <th>mean</th>\n",
       "      <td>458.626672</td>\n",
       "    </tr>\n",
       "    <tr>\n",
       "      <th>std</th>\n",
       "      <td>954.729307</td>\n",
       "    </tr>\n",
       "    <tr>\n",
       "      <th>min</th>\n",
       "      <td>1.000000</td>\n",
       "    </tr>\n",
       "    <tr>\n",
       "      <th>25%</th>\n",
       "      <td>38.000000</td>\n",
       "    </tr>\n",
       "    <tr>\n",
       "      <th>50%</th>\n",
       "      <td>152.000000</td>\n",
       "    </tr>\n",
       "    <tr>\n",
       "      <th>75%</th>\n",
       "      <td>512.000000</td>\n",
       "    </tr>\n",
       "    <tr>\n",
       "      <th>max</th>\n",
       "      <td>23661.000000</td>\n",
       "    </tr>\n",
       "  </tbody>\n",
       "</table>\n",
       "</div>"
      ],
      "text/plain": [
       "        grand_total\n",
       "count   5009.000000\n",
       "mean     458.626672\n",
       "std      954.729307\n",
       "min        1.000000\n",
       "25%       38.000000\n",
       "50%      152.000000\n",
       "75%      512.000000\n",
       "max    23661.000000"
      ]
     },
     "execution_count": 6,
     "metadata": {},
     "output_type": "execute_result"
    }
   ],
   "source": [
    "df.describe()"
   ]
  },
  {
   "cell_type": "markdown",
   "id": "yrnK9Sxt4UyX",
   "metadata": {
    "id": "yrnK9Sxt4UyX"
   },
   "source": [
    "Based on the data that has been stored, it is known that the order was made **5009 times**. Where the **smallest** amount of orders is **1**, meanwhile the **largest** amount of orders is **23661** and the **average** amount of orders is **456.6**."
   ]
  },
  {
   "cell_type": "markdown",
   "id": "7d3accea",
   "metadata": {
    "id": "7d3accea"
   },
   "source": [
    "# Data Cleaning"
   ]
  },
  {
   "cell_type": "code",
   "execution_count": 7,
   "id": "ba1378b8",
   "metadata": {
    "id": "ba1378b8"
   },
   "outputs": [],
   "source": [
    "# convert data type obj to date in order_date column\n",
    "df['order_date'] = pd.to_datetime(df['order_date'])"
   ]
  },
  {
   "cell_type": "code",
   "execution_count": 8,
   "id": "ece29ef4",
   "metadata": {
    "id": "ece29ef4"
   },
   "outputs": [],
   "source": [
    "df['year'] = df['order_date'].dt.strftime('%Y')\n",
    "df['month'] = df['order_date'].dt.strftime('%m')\n",
    "df['date'] = df['order_date'].dt.strftime('%d')"
   ]
  },
  {
   "cell_type": "code",
   "execution_count": 9,
   "id": "7695c288",
   "metadata": {
    "colab": {
     "base_uri": "https://localhost:8080/",
     "height": 206
    },
    "id": "7695c288",
    "outputId": "5f95395b-af75-42e0-e1d9-424209b73d73"
   },
   "outputs": [
    {
     "data": {
      "text/html": [
       "<div>\n",
       "<style scoped>\n",
       "    .dataframe tbody tr th:only-of-type {\n",
       "        vertical-align: middle;\n",
       "    }\n",
       "\n",
       "    .dataframe tbody tr th {\n",
       "        vertical-align: top;\n",
       "    }\n",
       "\n",
       "    .dataframe thead th {\n",
       "        text-align: right;\n",
       "    }\n",
       "</style>\n",
       "<table border=\"1\" class=\"dataframe\">\n",
       "  <thead>\n",
       "    <tr style=\"text-align: right;\">\n",
       "      <th></th>\n",
       "      <th>order_date</th>\n",
       "      <th>order_id</th>\n",
       "      <th>customer</th>\n",
       "      <th>grand_total</th>\n",
       "      <th>year</th>\n",
       "      <th>month</th>\n",
       "      <th>date</th>\n",
       "    </tr>\n",
       "  </thead>\n",
       "  <tbody>\n",
       "    <tr>\n",
       "      <th>0</th>\n",
       "      <td>2011-09-07</td>\n",
       "      <td>CA-2011-100006</td>\n",
       "      <td>Dennis Kane</td>\n",
       "      <td>378</td>\n",
       "      <td>2011</td>\n",
       "      <td>09</td>\n",
       "      <td>07</td>\n",
       "    </tr>\n",
       "    <tr>\n",
       "      <th>1</th>\n",
       "      <td>2011-07-08</td>\n",
       "      <td>CA-2011-100090</td>\n",
       "      <td>Ed Braxton</td>\n",
       "      <td>699</td>\n",
       "      <td>2011</td>\n",
       "      <td>07</td>\n",
       "      <td>08</td>\n",
       "    </tr>\n",
       "    <tr>\n",
       "      <th>2</th>\n",
       "      <td>2011-03-14</td>\n",
       "      <td>CA-2011-100293</td>\n",
       "      <td>Neil Franzšsisch</td>\n",
       "      <td>91</td>\n",
       "      <td>2011</td>\n",
       "      <td>03</td>\n",
       "      <td>14</td>\n",
       "    </tr>\n",
       "    <tr>\n",
       "      <th>3</th>\n",
       "      <td>2011-01-29</td>\n",
       "      <td>CA-2011-100328</td>\n",
       "      <td>Jasper Cacioppo</td>\n",
       "      <td>4</td>\n",
       "      <td>2011</td>\n",
       "      <td>01</td>\n",
       "      <td>29</td>\n",
       "    </tr>\n",
       "    <tr>\n",
       "      <th>4</th>\n",
       "      <td>2011-04-08</td>\n",
       "      <td>CA-2011-100363</td>\n",
       "      <td>Jim Mitchum</td>\n",
       "      <td>21</td>\n",
       "      <td>2011</td>\n",
       "      <td>04</td>\n",
       "      <td>08</td>\n",
       "    </tr>\n",
       "  </tbody>\n",
       "</table>\n",
       "</div>"
      ],
      "text/plain": [
       "  order_date        order_id          customer  grand_total  year month date\n",
       "0 2011-09-07  CA-2011-100006       Dennis Kane          378  2011    09   07\n",
       "1 2011-07-08  CA-2011-100090        Ed Braxton          699  2011    07   08\n",
       "2 2011-03-14  CA-2011-100293  Neil Franzšsisch           91  2011    03   14\n",
       "3 2011-01-29  CA-2011-100328   Jasper Cacioppo            4  2011    01   29\n",
       "4 2011-04-08  CA-2011-100363       Jim Mitchum           21  2011    04   08"
      ]
     },
     "execution_count": 9,
     "metadata": {},
     "output_type": "execute_result"
    }
   ],
   "source": [
    "df.head()"
   ]
  },
  {
   "cell_type": "code",
   "execution_count": 10,
   "id": "b332c7da",
   "metadata": {
    "colab": {
     "base_uri": "https://localhost:8080/"
    },
    "id": "b332c7da",
    "outputId": "3ba2eb70-6e92-4870-9621-8dcb6ce6c786"
   },
   "outputs": [
    {
     "name": "stdout",
     "output_type": "stream",
     "text": [
      "<class 'pandas.core.frame.DataFrame'>\n",
      "RangeIndex: 5009 entries, 0 to 5008\n",
      "Data columns (total 7 columns):\n",
      " #   Column       Non-Null Count  Dtype         \n",
      "---  ------       --------------  -----         \n",
      " 0   order_date   5009 non-null   datetime64[ns]\n",
      " 1   order_id     5009 non-null   object        \n",
      " 2   customer     5009 non-null   object        \n",
      " 3   grand_total  5009 non-null   int64         \n",
      " 4   year         5009 non-null   object        \n",
      " 5   month        5009 non-null   object        \n",
      " 6   date         5009 non-null   object        \n",
      "dtypes: datetime64[ns](1), int64(1), object(5)\n",
      "memory usage: 274.1+ KB\n"
     ]
    }
   ],
   "source": [
    "df.info()"
   ]
  },
  {
   "cell_type": "markdown",
   "id": "6jWtyymk3o3b",
   "metadata": {
    "id": "6jWtyymk3o3b"
   },
   "source": [
    "- In order_date column which stored order date customer, it should store data in date data type. But from the data we have it is known that this column stores data in objects data type. So we decided to change data type from object to date.\n",
    "- From the order_date column, data also separated by year, month and date. Then saved into a new column with column names namely year, month and date."
   ]
  },
  {
   "cell_type": "markdown",
   "id": "9a627be2",
   "metadata": {
    "id": "9a627be2"
   },
   "source": [
    "# Exploratory Data Analysis"
   ]
  },
  {
   "cell_type": "code",
   "execution_count": 11,
   "id": "b75998b1",
   "metadata": {
    "colab": {
     "base_uri": "https://localhost:8080/",
     "height": 175
    },
    "id": "b75998b1",
    "outputId": "18c3a55e-e24b-4cd9-c967-8389522174a6"
   },
   "outputs": [
    {
     "data": {
      "text/html": [
       "<div>\n",
       "<style scoped>\n",
       "    .dataframe tbody tr th:only-of-type {\n",
       "        vertical-align: middle;\n",
       "    }\n",
       "\n",
       "    .dataframe tbody tr th {\n",
       "        vertical-align: top;\n",
       "    }\n",
       "\n",
       "    .dataframe thead th {\n",
       "        text-align: right;\n",
       "    }\n",
       "</style>\n",
       "<table border=\"1\" class=\"dataframe\">\n",
       "  <thead>\n",
       "    <tr style=\"text-align: right;\">\n",
       "      <th></th>\n",
       "      <th>year</th>\n",
       "      <th>grand_total</th>\n",
       "      <th>percentage</th>\n",
       "    </tr>\n",
       "  </thead>\n",
       "  <tbody>\n",
       "    <tr>\n",
       "      <th>0</th>\n",
       "      <td>2011</td>\n",
       "      <td>484260</td>\n",
       "      <td>NaN</td>\n",
       "    </tr>\n",
       "    <tr>\n",
       "      <th>1</th>\n",
       "      <td>2012</td>\n",
       "      <td>470539</td>\n",
       "      <td>-2.83</td>\n",
       "    </tr>\n",
       "    <tr>\n",
       "      <th>2</th>\n",
       "      <td>2013</td>\n",
       "      <td>608477</td>\n",
       "      <td>29.31</td>\n",
       "    </tr>\n",
       "    <tr>\n",
       "      <th>3</th>\n",
       "      <td>2014</td>\n",
       "      <td>733985</td>\n",
       "      <td>20.63</td>\n",
       "    </tr>\n",
       "  </tbody>\n",
       "</table>\n",
       "</div>"
      ],
      "text/plain": [
       "   year  grand_total  percentage\n",
       "0  2011       484260         NaN\n",
       "1  2012       470539       -2.83\n",
       "2  2013       608477       29.31\n",
       "3  2014       733985       20.63"
      ]
     },
     "execution_count": 11,
     "metadata": {},
     "output_type": "execute_result"
    }
   ],
   "source": [
    "df_year = df.groupby('year')['grand_total'].sum()\n",
    "\n",
    "df_year = pd.DataFrame(df_year)\n",
    "df_year = df_year.reset_index()\n",
    "df_year['percentage'] = round(df_year['grand_total'].pct_change()*100, 2)\n",
    "\n",
    "df_year"
   ]
  },
  {
   "cell_type": "code",
   "execution_count": 12,
   "id": "4b920967",
   "metadata": {
    "colab": {
     "base_uri": "https://localhost:8080/",
     "height": 542
    },
    "id": "4b920967",
    "outputId": "733efe22-1330-4d2d-cce4-ca247b377c9e"
   },
   "outputs": [
    {
     "data": {
      "text/html": [
       "<iframe\n",
       "    scrolling=\"no\"\n",
       "    width=\"100%\"\n",
       "    height=\"545px\"\n",
       "    src=\"iframe_figures/figure_12.html\"\n",
       "    frameborder=\"0\"\n",
       "    allowfullscreen\n",
       "></iframe>\n"
      ]
     },
     "metadata": {},
     "output_type": "display_data"
    },
    {
     "data": {
      "image/png": "[encoded data removed]"
     },
     "metadata": {},
     "output_type": "display_data"
    }
   ],
   "source": [
    "plot_year = [\n",
    "    go.Scatter(\n",
    "        x = df_year['year'], \n",
    "        y = df_year['grand_total'], \n",
    "        mode = 'lines+markers'\n",
    "    )\n",
    "]\n",
    "\n",
    "plot_layout = go.Layout(\n",
    "    xaxis = {'type': 'category'},\n",
    "    title = 'Yearly Order from 2011 to 2014')\n",
    "\n",
    "fig = go.Figure(data=plot_year, layout=plot_layout)\n",
    "pyoff.iplot(fig)\n",
    "fig.show(renderer=\"png\")"
   ]
  },
  {
   "cell_type": "markdown",
   "id": "90b46b28",
   "metadata": {
    "id": "90b46b28"
   },
   "source": [
    "Based on the data that has been collected, it is known that the orders were made from 2011 to 2014. In the first year, 2011, there were around 484.26K orders. Then in **2012** there was a **decrease in orders by 2.8%** from the previous year. However, from **2013 to 2014** the orders continued to **increase**. In 2013 there was an increase of **29.3%** and in 2014 there was an increase of **20.6%**."
   ]
  },
  {
   "cell_type": "code",
   "execution_count": 13,
   "id": "22b8d9c8",
   "metadata": {
    "colab": {
     "base_uri": "https://localhost:8080/",
     "height": 206
    },
    "id": "22b8d9c8",
    "outputId": "20f2f01b-43f5-4618-e313-43747519905d"
   },
   "outputs": [
    {
     "data": {
      "text/html": [
       "<div>\n",
       "<style scoped>\n",
       "    .dataframe tbody tr th:only-of-type {\n",
       "        vertical-align: middle;\n",
       "    }\n",
       "\n",
       "    .dataframe tbody tr th {\n",
       "        vertical-align: top;\n",
       "    }\n",
       "\n",
       "    .dataframe thead th {\n",
       "        text-align: right;\n",
       "    }\n",
       "</style>\n",
       "<table border=\"1\" class=\"dataframe\">\n",
       "  <thead>\n",
       "    <tr style=\"text-align: right;\">\n",
       "      <th></th>\n",
       "      <th>year</th>\n",
       "      <th>month</th>\n",
       "      <th>grand_total</th>\n",
       "      <th>percentage</th>\n",
       "    </tr>\n",
       "  </thead>\n",
       "  <tbody>\n",
       "    <tr>\n",
       "      <th>0</th>\n",
       "      <td>2011</td>\n",
       "      <td>01</td>\n",
       "      <td>13949</td>\n",
       "      <td>NaN</td>\n",
       "    </tr>\n",
       "    <tr>\n",
       "      <th>1</th>\n",
       "      <td>2011</td>\n",
       "      <td>02</td>\n",
       "      <td>4810</td>\n",
       "      <td>-65.52</td>\n",
       "    </tr>\n",
       "    <tr>\n",
       "      <th>2</th>\n",
       "      <td>2011</td>\n",
       "      <td>03</td>\n",
       "      <td>55695</td>\n",
       "      <td>1057.90</td>\n",
       "    </tr>\n",
       "    <tr>\n",
       "      <th>3</th>\n",
       "      <td>2011</td>\n",
       "      <td>04</td>\n",
       "      <td>28298</td>\n",
       "      <td>-49.19</td>\n",
       "    </tr>\n",
       "    <tr>\n",
       "      <th>4</th>\n",
       "      <td>2011</td>\n",
       "      <td>05</td>\n",
       "      <td>23647</td>\n",
       "      <td>-16.44</td>\n",
       "    </tr>\n",
       "  </tbody>\n",
       "</table>\n",
       "</div>"
      ],
      "text/plain": [
       "   year month  grand_total  percentage\n",
       "0  2011    01        13949         NaN\n",
       "1  2011    02         4810      -65.52\n",
       "2  2011    03        55695     1057.90\n",
       "3  2011    04        28298      -49.19\n",
       "4  2011    05        23647      -16.44"
      ]
     },
     "execution_count": 13,
     "metadata": {},
     "output_type": "execute_result"
    }
   ],
   "source": [
    "# looking growth the orders by month\n",
    "df_YearMonth = df.groupby(['year', 'month']).grand_total.sum()\n",
    "\n",
    "df_YearMonth = pd.DataFrame(df_YearMonth)\n",
    "df_YearMonth = df_YearMonth.reset_index()\n",
    "df_YearMonth['percentage'] = round(df_YearMonth['grand_total'].pct_change()*100, 2)\n",
    "\n",
    "df_YearMonth.head()"
   ]
  },
  {
   "cell_type": "code",
   "execution_count": 14,
   "id": "78d7d01f",
   "metadata": {
    "colab": {
     "base_uri": "https://localhost:8080/",
     "height": 542
    },
    "id": "78d7d01f",
    "outputId": "ddf5a33d-1c3a-4ff7-e2c6-a84bd53262ab"
   },
   "outputs": [
    {
     "data": {
      "text/html": [
       "<iframe\n",
       "    scrolling=\"no\"\n",
       "    width=\"100%\"\n",
       "    height=\"545px\"\n",
       "    src=\"iframe_figures/figure_14.html\"\n",
       "    frameborder=\"0\"\n",
       "    allowfullscreen\n",
       "></iframe>\n"
      ]
     },
     "metadata": {},
     "output_type": "display_data"
    },
    {
     "data": {
      "image/png": "[encoded data removed]"
     },
     "metadata": {},
     "output_type": "display_data"
    }
   ],
   "source": [
    "fig = px.bar(df_YearMonth, x='month', y='grand_total', color='year', text='percentage')\n",
    "pyoff.iplot(fig)\n",
    "fig.show(renderer=\"png\");"
   ]
  },
  {
   "cell_type": "markdown",
   "id": "4d9b1749",
   "metadata": {
    "id": "4d9b1749"
   },
   "source": [
    "In **2011**, total orders around **484K**, which the **highest orders** occurred in September 2011 with growth up to **193.03%** meanwhile the **lowest orders** occurred in February 2011 with a decrease up to **65%**. \n",
    "<br>\n",
    "In **2012** total orders around **470.5K**, in this year (2012) there was a 2.8% **decrease** in orders.  Which the **highest orders** occurred in March 2012 with growth up to **215.04%** meanwhile the **lowest orders** occurred in January 2012 with a decrease up to **73.87%**.\n",
    "<br>\n",
    "In **2013** total orders around **608.5K**, in this year (2013) there was a 29.31% **increase** in orders.  Which the **highest orders** occurred in March 2013 with growth up to **215.04%** meanwhile the **lowest orders** occurred in January 2013 with a decrease up to **75.25%**. \n",
    "<br>\n",
    "In **2014** total orders around **734K**, in this year (2014) there was a 20.63% **increase** in orders.  Which the **highest orders** occurred in March 2014 with growth in orders of **165.77%** meanwhile the **lowest orders** occurred in January 2014 with a decrease up to **54.02%**. \n",
    "<br>\n",
    "Based on the graph above, it can be concluded that the **highest** total orders from 2011 to 2014 occurred in **November and December**, while the **lowest** total orders from 2011 to 2014 occurred in **January and February**."
   ]
  },
  {
   "cell_type": "code",
   "execution_count": 15,
   "id": "qVIgwZsb7hma",
   "metadata": {
    "colab": {
     "base_uri": "https://localhost:8080/",
     "height": 206
    },
    "id": "qVIgwZsb7hma",
    "outputId": "1579188a-2c34-4e78-8c10-45669f88682d"
   },
   "outputs": [
    {
     "data": {
      "text/html": [
       "<div>\n",
       "<style scoped>\n",
       "    .dataframe tbody tr th:only-of-type {\n",
       "        vertical-align: middle;\n",
       "    }\n",
       "\n",
       "    .dataframe tbody tr th {\n",
       "        vertical-align: top;\n",
       "    }\n",
       "\n",
       "    .dataframe thead th {\n",
       "        text-align: right;\n",
       "    }\n",
       "</style>\n",
       "<table border=\"1\" class=\"dataframe\">\n",
       "  <thead>\n",
       "    <tr style=\"text-align: right;\">\n",
       "      <th></th>\n",
       "      <th>month</th>\n",
       "      <th>grand_total</th>\n",
       "    </tr>\n",
       "  </thead>\n",
       "  <tbody>\n",
       "    <tr>\n",
       "      <th>0</th>\n",
       "      <td>01</td>\n",
       "      <td>95374</td>\n",
       "    </tr>\n",
       "    <tr>\n",
       "      <th>1</th>\n",
       "      <td>02</td>\n",
       "      <td>60175</td>\n",
       "    </tr>\n",
       "    <tr>\n",
       "      <th>2</th>\n",
       "      <td>03</td>\n",
       "      <td>199266</td>\n",
       "    </tr>\n",
       "    <tr>\n",
       "      <th>3</th>\n",
       "      <td>04</td>\n",
       "      <td>141855</td>\n",
       "    </tr>\n",
       "    <tr>\n",
       "      <th>4</th>\n",
       "      <td>05</td>\n",
       "      <td>156132</td>\n",
       "    </tr>\n",
       "  </tbody>\n",
       "</table>\n",
       "</div>"
      ],
      "text/plain": [
       "  month  grand_total\n",
       "0    01        95374\n",
       "1    02        60175\n",
       "2    03       199266\n",
       "3    04       141855\n",
       "4    05       156132"
      ]
     },
     "execution_count": 15,
     "metadata": {},
     "output_type": "execute_result"
    }
   ],
   "source": [
    "# peak month\n",
    "df_month = df.groupby('month')['grand_total'].sum()\n",
    "\n",
    "df_month  = pd.DataFrame(df_month)\n",
    "df_month  = df_month.reset_index()\n",
    "\n",
    "df_month.head()"
   ]
  },
  {
   "cell_type": "code",
   "execution_count": 16,
   "id": "BSdtu10R8I2M",
   "metadata": {
    "colab": {
     "base_uri": "https://localhost:8080/",
     "height": 542
    },
    "id": "BSdtu10R8I2M",
    "outputId": "caa1453b-f995-4a6d-ad53-96d745da8832"
   },
   "outputs": [
    {
     "data": {
      "text/html": [
       "<iframe\n",
       "    scrolling=\"no\"\n",
       "    width=\"100%\"\n",
       "    height=\"545px\"\n",
       "    src=\"iframe_figures/figure_16.html\"\n",
       "    frameborder=\"0\"\n",
       "    allowfullscreen\n",
       "></iframe>\n"
      ]
     },
     "metadata": {},
     "output_type": "display_data"
    },
    {
     "data": {
      "image/png": "[encoded data removed]"
     },
     "metadata": {},
     "output_type": "display_data"
    }
   ],
   "source": [
    "plot_month = [\n",
    "    go.Scatter(\n",
    "        x = df_month['month'], \n",
    "        y = df_month['grand_total'], \n",
    "        mode='lines+markers'\n",
    "    )\n",
    "]\n",
    "\n",
    "plot_layout = go.Layout(\n",
    "    xaxis = {'type': 'category'},\n",
    "    title = 'Monthly Peak from January 2011 to December 2014')\n",
    "\n",
    "fig = go.Figure(data=plot_month, layout=plot_layout)\n",
    "pyoff.iplot(fig)\n",
    "fig.show(renderer=\"png\")"
   ]
  },
  {
   "cell_type": "markdown",
   "id": "MH25oM0k8koU",
   "metadata": {
    "id": "MH25oM0k8koU"
   },
   "source": [
    "It is known that in a certain month has high total orders and low total order. Like in November which has peak monthly orders. Then in December and September also have a highest total order than other months. And the lowest total sales were in February and January. Meanwhile in April to August the total order is quite stable at around 150K."
   ]
  },
  {
   "cell_type": "code",
   "execution_count": 17,
   "id": "de262d34",
   "metadata": {
    "colab": {
     "base_uri": "https://localhost:8080/",
     "height": 206
    },
    "id": "de262d34",
    "outputId": "cb164a17-478a-4711-878c-bbb8c3d0caee"
   },
   "outputs": [
    {
     "data": {
      "text/html": [
       "<div>\n",
       "<style scoped>\n",
       "    .dataframe tbody tr th:only-of-type {\n",
       "        vertical-align: middle;\n",
       "    }\n",
       "\n",
       "    .dataframe tbody tr th {\n",
       "        vertical-align: top;\n",
       "    }\n",
       "\n",
       "    .dataframe thead th {\n",
       "        text-align: right;\n",
       "    }\n",
       "</style>\n",
       "<table border=\"1\" class=\"dataframe\">\n",
       "  <thead>\n",
       "    <tr style=\"text-align: right;\">\n",
       "      <th></th>\n",
       "      <th>order_date</th>\n",
       "      <th>grand_total</th>\n",
       "    </tr>\n",
       "  </thead>\n",
       "  <tbody>\n",
       "    <tr>\n",
       "      <th>0</th>\n",
       "      <td>1</td>\n",
       "      <td>71479</td>\n",
       "    </tr>\n",
       "    <tr>\n",
       "      <th>1</th>\n",
       "      <td>2</td>\n",
       "      <td>92541</td>\n",
       "    </tr>\n",
       "    <tr>\n",
       "      <th>2</th>\n",
       "      <td>3</td>\n",
       "      <td>93319</td>\n",
       "    </tr>\n",
       "    <tr>\n",
       "      <th>3</th>\n",
       "      <td>4</td>\n",
       "      <td>75367</td>\n",
       "    </tr>\n",
       "    <tr>\n",
       "      <th>4</th>\n",
       "      <td>5</td>\n",
       "      <td>71895</td>\n",
       "    </tr>\n",
       "  </tbody>\n",
       "</table>\n",
       "</div>"
      ],
      "text/plain": [
       "   order_date  grand_total\n",
       "0           1        71479\n",
       "1           2        92541\n",
       "2           3        93319\n",
       "3           4        75367\n",
       "4           5        71895"
      ]
     },
     "execution_count": 17,
     "metadata": {},
     "output_type": "execute_result"
    }
   ],
   "source": [
    "# peak day\n",
    "df_date = df.groupby(df.order_date.dt.day)['grand_total'].sum()\n",
    "\n",
    "df_date  = pd.DataFrame(df_date)\n",
    "df_date  = df_date.reset_index()\n",
    "\n",
    "df_date.head()"
   ]
  },
  {
   "cell_type": "code",
   "execution_count": 18,
   "id": "40dde603",
   "metadata": {
    "colab": {
     "base_uri": "https://localhost:8080/",
     "height": 542
    },
    "id": "40dde603",
    "outputId": "56b6a3d8-263e-413e-cb20-4bbd0a65a025"
   },
   "outputs": [
    {
     "data": {
      "text/html": [
       "<iframe\n",
       "    scrolling=\"no\"\n",
       "    width=\"100%\"\n",
       "    height=\"545px\"\n",
       "    src=\"iframe_figures/figure_18.html\"\n",
       "    frameborder=\"0\"\n",
       "    allowfullscreen\n",
       "></iframe>\n"
      ]
     },
     "metadata": {},
     "output_type": "display_data"
    },
    {
     "data": {
      "image/png": "[encoded data removed]"
     },
     "metadata": {},
     "output_type": "display_data"
    }
   ],
   "source": [
    "plot_date = [\n",
    "    go.Scatter(\n",
    "        x = df_date['order_date'], \n",
    "        y = df_date['grand_total'], \n",
    "        mode='lines+markers'\n",
    "    )\n",
    "]\n",
    "\n",
    "plot_layout = go.Layout(\n",
    "    xaxis = {'type': 'category'},\n",
    "    title = 'Peak Date from January 2011 to December 2014')\n",
    "\n",
    "fig = go.Figure(data=plot_date, layout=plot_layout)\n",
    "pyoff.iplot(fig)\n",
    "fig.show(renderer=\"png\")"
   ]
  },
  {
   "cell_type": "markdown",
   "id": "d00d1d9c",
   "metadata": {
    "id": "d00d1d9c"
   },
   "source": [
    "On three days at the beginning of the month, **1st and 3rd date** there was an **increase** in orders. Also in the middle of the month, which is on the **15th to 18th**, there is also an **increase** in orders. Meanwhile on W4 which is the **24th to the 30th** there is a **decrease** in orders."
   ]
  },
  {
   "cell_type": "markdown",
   "id": "7009a6a6",
   "metadata": {
    "id": "7009a6a6"
   },
   "source": [
    "# Preprocessing Model"
   ]
  },
  {
   "cell_type": "code",
   "execution_count": 19,
   "id": "24b3abc1",
   "metadata": {
    "colab": {
     "base_uri": "https://localhost:8080/"
    },
    "id": "24b3abc1",
    "outputId": "208a99b6-69ea-4f6e-fe36-e18d9f95f620"
   },
   "outputs": [
    {
     "name": "stdout",
     "output_type": "stream",
     "text": [
      "2011-01-04 00:00:00\n",
      "2014-12-31 00:00:00\n"
     ]
    }
   ],
   "source": [
    "# timebound\n",
    "print(df['order_date'].min())\n",
    "print(df['order_date'].max())"
   ]
  },
  {
   "cell_type": "code",
   "execution_count": 20,
   "id": "961a389e",
   "metadata": {
    "id": "961a389e"
   },
   "outputs": [],
   "source": [
    "now = dt.date(2014, 12, 31)\n",
    "df['Date'] = pd.DatetimeIndex(df.order_date).date"
   ]
  },
  {
   "cell_type": "code",
   "execution_count": 21,
   "id": "70ba6af8",
   "metadata": {
    "colab": {
     "base_uri": "https://localhost:8080/",
     "height": 206
    },
    "id": "70ba6af8",
    "outputId": "fd7b2890-5964-4eac-9b43-b463ac5e911a"
   },
   "outputs": [
    {
     "data": {
      "text/html": [
       "<div>\n",
       "<style scoped>\n",
       "    .dataframe tbody tr th:only-of-type {\n",
       "        vertical-align: middle;\n",
       "    }\n",
       "\n",
       "    .dataframe tbody tr th {\n",
       "        vertical-align: top;\n",
       "    }\n",
       "\n",
       "    .dataframe thead th {\n",
       "        text-align: right;\n",
       "    }\n",
       "</style>\n",
       "<table border=\"1\" class=\"dataframe\">\n",
       "  <thead>\n",
       "    <tr style=\"text-align: right;\">\n",
       "      <th></th>\n",
       "      <th>customer</th>\n",
       "      <th>Last_Purchase_Date</th>\n",
       "      <th>Recency</th>\n",
       "    </tr>\n",
       "  </thead>\n",
       "  <tbody>\n",
       "    <tr>\n",
       "      <th>0</th>\n",
       "      <td>Aaron Bergman</td>\n",
       "      <td>2013-11-11</td>\n",
       "      <td>415</td>\n",
       "    </tr>\n",
       "    <tr>\n",
       "      <th>1</th>\n",
       "      <td>Aaron Hawkins</td>\n",
       "      <td>2014-12-19</td>\n",
       "      <td>12</td>\n",
       "    </tr>\n",
       "    <tr>\n",
       "      <th>2</th>\n",
       "      <td>Aaron Smayling</td>\n",
       "      <td>2014-10-04</td>\n",
       "      <td>88</td>\n",
       "    </tr>\n",
       "    <tr>\n",
       "      <th>3</th>\n",
       "      <td>Adam Bellavance</td>\n",
       "      <td>2014-11-07</td>\n",
       "      <td>54</td>\n",
       "    </tr>\n",
       "    <tr>\n",
       "      <th>4</th>\n",
       "      <td>Adam Hart</td>\n",
       "      <td>2014-11-27</td>\n",
       "      <td>34</td>\n",
       "    </tr>\n",
       "  </tbody>\n",
       "</table>\n",
       "</div>"
      ],
      "text/plain": [
       "          customer Last_Purchase_Date  Recency\n",
       "0    Aaron Bergman         2013-11-11      415\n",
       "1    Aaron Hawkins         2014-12-19       12\n",
       "2   Aaron Smayling         2014-10-04       88\n",
       "3  Adam Bellavance         2014-11-07       54\n",
       "4        Adam Hart         2014-11-27       34"
      ]
     },
     "execution_count": 21,
     "metadata": {},
     "output_type": "execute_result"
    }
   ],
   "source": [
    "# Recency\n",
    "df_recency = df.groupby(['customer'], as_index=False)['Date'].max()\n",
    "df_recency.columns = ['customer', 'Last_Purchase_Date']\n",
    "\n",
    "df_recency['Recency'] = df_recency.Last_Purchase_Date.apply(lambda x:(now - x).days)\n",
    "# df_recency.drop(columns=['Last_Purchase_Date'], inplace=True)\n",
    "df_recency.head()"
   ]
  },
  {
   "cell_type": "code",
   "execution_count": 22,
   "id": "1096ae5e",
   "metadata": {
    "colab": {
     "base_uri": "https://localhost:8080/",
     "height": 237
    },
    "id": "1096ae5e",
    "outputId": "9a8e8a65-7855-4cf8-8be2-a198fbe30963"
   },
   "outputs": [
    {
     "data": {
      "text/html": [
       "<div>\n",
       "<style scoped>\n",
       "    .dataframe tbody tr th:only-of-type {\n",
       "        vertical-align: middle;\n",
       "    }\n",
       "\n",
       "    .dataframe tbody tr th {\n",
       "        vertical-align: top;\n",
       "    }\n",
       "\n",
       "    .dataframe thead th {\n",
       "        text-align: right;\n",
       "    }\n",
       "</style>\n",
       "<table border=\"1\" class=\"dataframe\">\n",
       "  <thead>\n",
       "    <tr style=\"text-align: right;\">\n",
       "      <th></th>\n",
       "      <th>Frequency</th>\n",
       "      <th>Monetary</th>\n",
       "    </tr>\n",
       "    <tr>\n",
       "      <th>customer</th>\n",
       "      <th></th>\n",
       "      <th></th>\n",
       "    </tr>\n",
       "  </thead>\n",
       "  <tbody>\n",
       "    <tr>\n",
       "      <th>Aaron Bergman</th>\n",
       "      <td>3</td>\n",
       "      <td>887</td>\n",
       "    </tr>\n",
       "    <tr>\n",
       "      <th>Aaron Hawkins</th>\n",
       "      <td>7</td>\n",
       "      <td>1744</td>\n",
       "    </tr>\n",
       "    <tr>\n",
       "      <th>Aaron Smayling</th>\n",
       "      <td>7</td>\n",
       "      <td>3050</td>\n",
       "    </tr>\n",
       "    <tr>\n",
       "      <th>Adam Bellavance</th>\n",
       "      <td>8</td>\n",
       "      <td>7756</td>\n",
       "    </tr>\n",
       "    <tr>\n",
       "      <th>Adam Hart</th>\n",
       "      <td>10</td>\n",
       "      <td>3249</td>\n",
       "    </tr>\n",
       "  </tbody>\n",
       "</table>\n",
       "</div>"
      ],
      "text/plain": [
       "                 Frequency  Monetary\n",
       "customer                            \n",
       "Aaron Bergman            3       887\n",
       "Aaron Hawkins            7      1744\n",
       "Aaron Smayling           7      3050\n",
       "Adam Bellavance          8      7756\n",
       "Adam Hart               10      3249"
      ]
     },
     "execution_count": 22,
     "metadata": {},
     "output_type": "execute_result"
    }
   ],
   "source": [
    "# Frequency\n",
    "FM_Table = df.groupby('customer').agg({'order_id' : lambda x : len(x),\n",
    "                                       'grand_total' : lambda x : sum(x)})\n",
    "\n",
    "FM_Table.rename(columns = {'order_id' : 'Frequency',\n",
    "                           'grand_total' : 'Monetary'}, inplace=True)\n",
    "\n",
    "FM_Table.head()"
   ]
  },
  {
   "cell_type": "code",
   "execution_count": 23,
   "id": "05032f7c",
   "metadata": {
    "colab": {
     "base_uri": "https://localhost:8080/",
     "height": 206
    },
    "id": "05032f7c",
    "outputId": "41d4eb89-e3d5-4214-9990-ad94b4d458c7"
   },
   "outputs": [
    {
     "data": {
      "text/html": [
       "<div>\n",
       "<style scoped>\n",
       "    .dataframe tbody tr th:only-of-type {\n",
       "        vertical-align: middle;\n",
       "    }\n",
       "\n",
       "    .dataframe tbody tr th {\n",
       "        vertical-align: top;\n",
       "    }\n",
       "\n",
       "    .dataframe thead th {\n",
       "        text-align: right;\n",
       "    }\n",
       "</style>\n",
       "<table border=\"1\" class=\"dataframe\">\n",
       "  <thead>\n",
       "    <tr style=\"text-align: right;\">\n",
       "      <th></th>\n",
       "      <th>customer</th>\n",
       "      <th>Recency</th>\n",
       "      <th>Frequency</th>\n",
       "      <th>Monetary</th>\n",
       "    </tr>\n",
       "  </thead>\n",
       "  <tbody>\n",
       "    <tr>\n",
       "      <th>0</th>\n",
       "      <td>Aaron Bergman</td>\n",
       "      <td>415</td>\n",
       "      <td>3</td>\n",
       "      <td>887</td>\n",
       "    </tr>\n",
       "    <tr>\n",
       "      <th>1</th>\n",
       "      <td>Aaron Hawkins</td>\n",
       "      <td>12</td>\n",
       "      <td>7</td>\n",
       "      <td>1744</td>\n",
       "    </tr>\n",
       "    <tr>\n",
       "      <th>2</th>\n",
       "      <td>Aaron Smayling</td>\n",
       "      <td>88</td>\n",
       "      <td>7</td>\n",
       "      <td>3050</td>\n",
       "    </tr>\n",
       "    <tr>\n",
       "      <th>3</th>\n",
       "      <td>Adam Bellavance</td>\n",
       "      <td>54</td>\n",
       "      <td>8</td>\n",
       "      <td>7756</td>\n",
       "    </tr>\n",
       "    <tr>\n",
       "      <th>4</th>\n",
       "      <td>Adam Hart</td>\n",
       "      <td>34</td>\n",
       "      <td>10</td>\n",
       "      <td>3249</td>\n",
       "    </tr>\n",
       "  </tbody>\n",
       "</table>\n",
       "</div>"
      ],
      "text/plain": [
       "          customer  Recency  Frequency  Monetary\n",
       "0    Aaron Bergman      415          3       887\n",
       "1    Aaron Hawkins       12          7      1744\n",
       "2   Aaron Smayling       88          7      3050\n",
       "3  Adam Bellavance       54          8      7756\n",
       "4        Adam Hart       34         10      3249"
      ]
     },
     "execution_count": 23,
     "metadata": {},
     "output_type": "execute_result"
    }
   ],
   "source": [
    "RFM_Table = df_recency[['customer', 'Recency']].merge(FM_Table, left_on='customer', right_on='customer')\n",
    "RFM_Table.head()"
   ]
  },
  {
   "cell_type": "code",
   "execution_count": 24,
   "id": "d0f40c54",
   "metadata": {
    "colab": {
     "base_uri": "https://localhost:8080/"
    },
    "id": "d0f40c54",
    "outputId": "fe88cfdc-97b1-4e23-9a1e-a3b808e9a0af"
   },
   "outputs": [
    {
     "data": {
      "text/plain": [
       "25042"
      ]
     },
     "execution_count": 24,
     "metadata": {},
     "output_type": "execute_result"
    }
   ],
   "source": [
    "RFM_Table['Monetary'].max()"
   ]
  },
  {
   "cell_type": "markdown",
   "id": "c4df0519",
   "metadata": {
    "id": "c4df0519"
   },
   "source": [
    "# Modeling Using RFM "
   ]
  },
  {
   "cell_type": "markdown",
   "id": "0f2997d1",
   "metadata": {
    "id": "0f2997d1"
   },
   "source": [
    "Assign score from 1 to 4 to each recency, frequency and monetary. 1 is the highest value and 4 the lowest value."
   ]
  },
  {
   "cell_type": "code",
   "execution_count": 25,
   "id": "7514f2f4",
   "metadata": {
    "id": "7514f2f4"
   },
   "outputs": [],
   "source": [
    "quantiles = RFM_Table.quantile(q=[0.25, 0.50, 0.75])\n",
    "\n",
    "quantiles = quantiles.to_dict()"
   ]
  },
  {
   "cell_type": "code",
   "execution_count": 26,
   "id": "1655392d",
   "metadata": {
    "id": "1655392d"
   },
   "outputs": [],
   "source": [
    "segmented_rfm = RFM_Table.copy()"
   ]
  },
  {
   "cell_type": "code",
   "execution_count": 27,
   "id": "3963d1a7",
   "metadata": {
    "id": "3963d1a7"
   },
   "outputs": [],
   "source": [
    "def RScore(x, p, d):\n",
    "    if x <= d[p][0.25]:\n",
    "        return 1\n",
    "    elif x <= d[p][0.50]:\n",
    "        return 2\n",
    "    elif x <= d[p][0.75]:\n",
    "        return 3\n",
    "    else:\n",
    "        return 4\n",
    "\n",
    "def FMScore(x, p, d):\n",
    "    if x <= d[p][0.25]:\n",
    "        return 4\n",
    "    elif x <= d[p][0.50]:\n",
    "        return 3\n",
    "    elif x <= d[p][0.75]:\n",
    "        return 2\n",
    "    else:\n",
    "        return 1"
   ]
  },
  {
   "cell_type": "code",
   "execution_count": 28,
   "id": "6382515b",
   "metadata": {
    "colab": {
     "base_uri": "https://localhost:8080/",
     "height": 206
    },
    "id": "6382515b",
    "outputId": "032b82d5-f293-4fe7-c8c3-8ffe124da8d9"
   },
   "outputs": [
    {
     "data": {
      "text/html": [
       "<div>\n",
       "<style scoped>\n",
       "    .dataframe tbody tr th:only-of-type {\n",
       "        vertical-align: middle;\n",
       "    }\n",
       "\n",
       "    .dataframe tbody tr th {\n",
       "        vertical-align: top;\n",
       "    }\n",
       "\n",
       "    .dataframe thead th {\n",
       "        text-align: right;\n",
       "    }\n",
       "</style>\n",
       "<table border=\"1\" class=\"dataframe\">\n",
       "  <thead>\n",
       "    <tr style=\"text-align: right;\">\n",
       "      <th></th>\n",
       "      <th>customer</th>\n",
       "      <th>Recency</th>\n",
       "      <th>Frequency</th>\n",
       "      <th>Monetary</th>\n",
       "      <th>R_quartile</th>\n",
       "      <th>F_quartile</th>\n",
       "      <th>M_quartile</th>\n",
       "    </tr>\n",
       "  </thead>\n",
       "  <tbody>\n",
       "    <tr>\n",
       "      <th>0</th>\n",
       "      <td>Aaron Bergman</td>\n",
       "      <td>415</td>\n",
       "      <td>3</td>\n",
       "      <td>887</td>\n",
       "      <td>4</td>\n",
       "      <td>4</td>\n",
       "      <td>4</td>\n",
       "    </tr>\n",
       "    <tr>\n",
       "      <th>1</th>\n",
       "      <td>Aaron Hawkins</td>\n",
       "      <td>12</td>\n",
       "      <td>7</td>\n",
       "      <td>1744</td>\n",
       "      <td>1</td>\n",
       "      <td>2</td>\n",
       "      <td>3</td>\n",
       "    </tr>\n",
       "    <tr>\n",
       "      <th>2</th>\n",
       "      <td>Aaron Smayling</td>\n",
       "      <td>88</td>\n",
       "      <td>7</td>\n",
       "      <td>3050</td>\n",
       "      <td>3</td>\n",
       "      <td>2</td>\n",
       "      <td>2</td>\n",
       "    </tr>\n",
       "    <tr>\n",
       "      <th>3</th>\n",
       "      <td>Adam Bellavance</td>\n",
       "      <td>54</td>\n",
       "      <td>8</td>\n",
       "      <td>7756</td>\n",
       "      <td>2</td>\n",
       "      <td>2</td>\n",
       "      <td>1</td>\n",
       "    </tr>\n",
       "    <tr>\n",
       "      <th>4</th>\n",
       "      <td>Adam Hart</td>\n",
       "      <td>34</td>\n",
       "      <td>10</td>\n",
       "      <td>3249</td>\n",
       "      <td>2</td>\n",
       "      <td>1</td>\n",
       "      <td>2</td>\n",
       "    </tr>\n",
       "  </tbody>\n",
       "</table>\n",
       "</div>"
      ],
      "text/plain": [
       "          customer  Recency  Frequency  Monetary  R_quartile  F_quartile  \\\n",
       "0    Aaron Bergman      415          3       887           4           4   \n",
       "1    Aaron Hawkins       12          7      1744           1           2   \n",
       "2   Aaron Smayling       88          7      3050           3           2   \n",
       "3  Adam Bellavance       54          8      7756           2           2   \n",
       "4        Adam Hart       34         10      3249           2           1   \n",
       "\n",
       "   M_quartile  \n",
       "0           4  \n",
       "1           3  \n",
       "2           2  \n",
       "3           1  \n",
       "4           2  "
      ]
     },
     "execution_count": 28,
     "metadata": {},
     "output_type": "execute_result"
    }
   ],
   "source": [
    "segmented_rfm['R_quartile'] = segmented_rfm['Recency'].apply(RScore, args=('Recency', quantiles))\n",
    "segmented_rfm['F_quartile'] = segmented_rfm['Frequency'].apply(FMScore, args=('Frequency', quantiles))\n",
    "segmented_rfm['M_quartile'] = segmented_rfm['Monetary'].apply(FMScore, args=('Monetary', quantiles))\n",
    "segmented_rfm.head()"
   ]
  },
  {
   "cell_type": "code",
   "execution_count": 29,
   "id": "57f8c32c",
   "metadata": {
    "colab": {
     "base_uri": "https://localhost:8080/",
     "height": 206
    },
    "id": "57f8c32c",
    "outputId": "7dd5c272-1c9c-4aad-a71f-858053279215"
   },
   "outputs": [
    {
     "data": {
      "text/html": [
       "<div>\n",
       "<style scoped>\n",
       "    .dataframe tbody tr th:only-of-type {\n",
       "        vertical-align: middle;\n",
       "    }\n",
       "\n",
       "    .dataframe tbody tr th {\n",
       "        vertical-align: top;\n",
       "    }\n",
       "\n",
       "    .dataframe thead th {\n",
       "        text-align: right;\n",
       "    }\n",
       "</style>\n",
       "<table border=\"1\" class=\"dataframe\">\n",
       "  <thead>\n",
       "    <tr style=\"text-align: right;\">\n",
       "      <th></th>\n",
       "      <th>customer</th>\n",
       "      <th>Recency</th>\n",
       "      <th>Frequency</th>\n",
       "      <th>Monetary</th>\n",
       "      <th>R_quartile</th>\n",
       "      <th>F_quartile</th>\n",
       "      <th>M_quartile</th>\n",
       "      <th>RFM_Segment</th>\n",
       "    </tr>\n",
       "  </thead>\n",
       "  <tbody>\n",
       "    <tr>\n",
       "      <th>0</th>\n",
       "      <td>Aaron Bergman</td>\n",
       "      <td>415</td>\n",
       "      <td>3</td>\n",
       "      <td>887</td>\n",
       "      <td>4</td>\n",
       "      <td>4</td>\n",
       "      <td>4</td>\n",
       "      <td>444</td>\n",
       "    </tr>\n",
       "    <tr>\n",
       "      <th>1</th>\n",
       "      <td>Aaron Hawkins</td>\n",
       "      <td>12</td>\n",
       "      <td>7</td>\n",
       "      <td>1744</td>\n",
       "      <td>1</td>\n",
       "      <td>2</td>\n",
       "      <td>3</td>\n",
       "      <td>123</td>\n",
       "    </tr>\n",
       "    <tr>\n",
       "      <th>2</th>\n",
       "      <td>Aaron Smayling</td>\n",
       "      <td>88</td>\n",
       "      <td>7</td>\n",
       "      <td>3050</td>\n",
       "      <td>3</td>\n",
       "      <td>2</td>\n",
       "      <td>2</td>\n",
       "      <td>322</td>\n",
       "    </tr>\n",
       "    <tr>\n",
       "      <th>3</th>\n",
       "      <td>Adam Bellavance</td>\n",
       "      <td>54</td>\n",
       "      <td>8</td>\n",
       "      <td>7756</td>\n",
       "      <td>2</td>\n",
       "      <td>2</td>\n",
       "      <td>1</td>\n",
       "      <td>221</td>\n",
       "    </tr>\n",
       "    <tr>\n",
       "      <th>4</th>\n",
       "      <td>Adam Hart</td>\n",
       "      <td>34</td>\n",
       "      <td>10</td>\n",
       "      <td>3249</td>\n",
       "      <td>2</td>\n",
       "      <td>1</td>\n",
       "      <td>2</td>\n",
       "      <td>212</td>\n",
       "    </tr>\n",
       "  </tbody>\n",
       "</table>\n",
       "</div>"
      ],
      "text/plain": [
       "          customer  Recency  Frequency  Monetary  R_quartile  F_quartile  \\\n",
       "0    Aaron Bergman      415          3       887           4           4   \n",
       "1    Aaron Hawkins       12          7      1744           1           2   \n",
       "2   Aaron Smayling       88          7      3050           3           2   \n",
       "3  Adam Bellavance       54          8      7756           2           2   \n",
       "4        Adam Hart       34         10      3249           2           1   \n",
       "\n",
       "   M_quartile RFM_Segment  \n",
       "0           4         444  \n",
       "1           3         123  \n",
       "2           2         322  \n",
       "3           1         221  \n",
       "4           2         212  "
      ]
     },
     "execution_count": 29,
     "metadata": {},
     "output_type": "execute_result"
    }
   ],
   "source": [
    "segmented_rfm['RFM_Segment'] = segmented_rfm.R_quartile.map(str) + segmented_rfm.F_quartile.map(str) + segmented_rfm.M_quartile.map(str)\n",
    "\n",
    "segmented_rfm.head()"
   ]
  },
  {
   "cell_type": "code",
   "execution_count": 30,
   "id": "8a1553a6",
   "metadata": {
    "colab": {
     "base_uri": "https://localhost:8080/",
     "height": 206
    },
    "id": "8a1553a6",
    "outputId": "b9d6e64b-a4a3-4a30-aeff-cf61467ab5e3"
   },
   "outputs": [
    {
     "data": {
      "text/html": [
       "<div>\n",
       "<style scoped>\n",
       "    .dataframe tbody tr th:only-of-type {\n",
       "        vertical-align: middle;\n",
       "    }\n",
       "\n",
       "    .dataframe tbody tr th {\n",
       "        vertical-align: top;\n",
       "    }\n",
       "\n",
       "    .dataframe thead th {\n",
       "        text-align: right;\n",
       "    }\n",
       "</style>\n",
       "<table border=\"1\" class=\"dataframe\">\n",
       "  <thead>\n",
       "    <tr style=\"text-align: right;\">\n",
       "      <th></th>\n",
       "      <th>customer</th>\n",
       "      <th>Recency</th>\n",
       "      <th>Frequency</th>\n",
       "      <th>Monetary</th>\n",
       "      <th>R_quartile</th>\n",
       "      <th>F_quartile</th>\n",
       "      <th>M_quartile</th>\n",
       "      <th>RFM_Segment</th>\n",
       "      <th>RFM_Score</th>\n",
       "    </tr>\n",
       "  </thead>\n",
       "  <tbody>\n",
       "    <tr>\n",
       "      <th>0</th>\n",
       "      <td>Aaron Bergman</td>\n",
       "      <td>415</td>\n",
       "      <td>3</td>\n",
       "      <td>887</td>\n",
       "      <td>4</td>\n",
       "      <td>4</td>\n",
       "      <td>4</td>\n",
       "      <td>444</td>\n",
       "      <td>12</td>\n",
       "    </tr>\n",
       "    <tr>\n",
       "      <th>1</th>\n",
       "      <td>Aaron Hawkins</td>\n",
       "      <td>12</td>\n",
       "      <td>7</td>\n",
       "      <td>1744</td>\n",
       "      <td>1</td>\n",
       "      <td>2</td>\n",
       "      <td>3</td>\n",
       "      <td>123</td>\n",
       "      <td>6</td>\n",
       "    </tr>\n",
       "    <tr>\n",
       "      <th>2</th>\n",
       "      <td>Aaron Smayling</td>\n",
       "      <td>88</td>\n",
       "      <td>7</td>\n",
       "      <td>3050</td>\n",
       "      <td>3</td>\n",
       "      <td>2</td>\n",
       "      <td>2</td>\n",
       "      <td>322</td>\n",
       "      <td>7</td>\n",
       "    </tr>\n",
       "    <tr>\n",
       "      <th>3</th>\n",
       "      <td>Adam Bellavance</td>\n",
       "      <td>54</td>\n",
       "      <td>8</td>\n",
       "      <td>7756</td>\n",
       "      <td>2</td>\n",
       "      <td>2</td>\n",
       "      <td>1</td>\n",
       "      <td>221</td>\n",
       "      <td>5</td>\n",
       "    </tr>\n",
       "    <tr>\n",
       "      <th>4</th>\n",
       "      <td>Adam Hart</td>\n",
       "      <td>34</td>\n",
       "      <td>10</td>\n",
       "      <td>3249</td>\n",
       "      <td>2</td>\n",
       "      <td>1</td>\n",
       "      <td>2</td>\n",
       "      <td>212</td>\n",
       "      <td>5</td>\n",
       "    </tr>\n",
       "  </tbody>\n",
       "</table>\n",
       "</div>"
      ],
      "text/plain": [
       "          customer  Recency  Frequency  Monetary  R_quartile  F_quartile  \\\n",
       "0    Aaron Bergman      415          3       887           4           4   \n",
       "1    Aaron Hawkins       12          7      1744           1           2   \n",
       "2   Aaron Smayling       88          7      3050           3           2   \n",
       "3  Adam Bellavance       54          8      7756           2           2   \n",
       "4        Adam Hart       34         10      3249           2           1   \n",
       "\n",
       "   M_quartile RFM_Segment  RFM_Score  \n",
       "0           4         444         12  \n",
       "1           3         123          6  \n",
       "2           2         322          7  \n",
       "3           1         221          5  \n",
       "4           2         212          5  "
      ]
     },
     "execution_count": 30,
     "metadata": {},
     "output_type": "execute_result"
    }
   ],
   "source": [
    "segmented_rfm['RFM_Score'] = segmented_rfm[['R_quartile', 'F_quartile', 'M_quartile']].sum(axis=1)\n",
    "\n",
    "segmented_rfm.head()"
   ]
  },
  {
   "cell_type": "markdown",
   "id": "6771a8ea",
   "metadata": {
    "id": "6771a8ea"
   },
   "source": [
    "# Labeling"
   ]
  },
  {
   "cell_type": "code",
   "execution_count": 31,
   "id": "a5b9b0e5",
   "metadata": {
    "colab": {
     "base_uri": "https://localhost:8080/"
    },
    "id": "a5b9b0e5",
    "outputId": "8d8ca5b5-5861-4abb-ab2b-d2212bba95d6"
   },
   "outputs": [
    {
     "name": "stdout",
     "output_type": "stream",
     "text": [
      "Best Customer:  30\n",
      "Loyal Customer:  159\n",
      "Big Spenders:  198\n",
      "Almost Lost:  2\n",
      "Lost Customer:  31\n",
      "Lost Cheap Customers:  67\n"
     ]
    }
   ],
   "source": [
    "print('Best Customer: ', len(segmented_rfm[segmented_rfm['RFM_Segment'] == '111'])) \n",
    "print('Loyal Customer: ', len(segmented_rfm[segmented_rfm['F_quartile'] == 1])) \n",
    "print('Big Spenders: ', len(segmented_rfm[segmented_rfm['M_quartile'] == 1])) \n",
    "print('Almost Lost: ', len(segmented_rfm[segmented_rfm['RFM_Segment'] == '134'])) \n",
    "print('Lost Customer: ', len(segmented_rfm[segmented_rfm['RFM_Segment'] == '344'])) \n",
    "print('Lost Cheap Customers: ', len(segmented_rfm[segmented_rfm['RFM_Segment'] == '444'])) "
   ]
  },
  {
   "cell_type": "code",
   "execution_count": 32,
   "id": "73c3e27d",
   "metadata": {
    "id": "73c3e27d"
   },
   "outputs": [],
   "source": [
    "# Setting up the label for each client and adding the column \"Label\" to the dataframe\n",
    "label = [0] * len(segmented_rfm)\n",
    "\n",
    "for i in range(0,len(segmented_rfm)):\n",
    "\n",
    "    if segmented_rfm['RFM_Segment'][i] == '111':\n",
    "        label[i] = \"Best Customers\"\n",
    "        \n",
    "    elif segmented_rfm['RFM_Segment'][i] == '134' :\n",
    "        label[i] = \"Almost Lost\"\n",
    "        \n",
    "    elif segmented_rfm['RFM_Segment'][i] == '344':\n",
    "        label[i] = \"Lost Customers\"\n",
    "    \n",
    "    elif segmented_rfm['RFM_Segment'][i] == '444':\n",
    "        label[i] = \"Lost Cheap Customers\"\n",
    "\n",
    "    elif segmented_rfm['F_quartile'][i] == 1:\n",
    "        label[i] = \"Loyal Customers\"  \n",
    "    \n",
    "    elif segmented_rfm['M_quartile'][i] == 1:\n",
    "        label[i] = \"Big Spenders\"   \n",
    "        \n",
    "    else:\n",
    "        label[i] = \"Others\""
   ]
  },
  {
   "cell_type": "code",
   "execution_count": 33,
   "id": "cd904e0a",
   "metadata": {
    "id": "cd904e0a"
   },
   "outputs": [],
   "source": [
    "# Adding the 'Label' column to our dataframe\n",
    "\n",
    "segmented_rfm['Label'] = label"
   ]
  },
  {
   "cell_type": "code",
   "execution_count": 34,
   "id": "d1660847",
   "metadata": {
    "colab": {
     "base_uri": "https://localhost:8080/"
    },
    "id": "d1660847",
    "outputId": "f8a1378b-99ed-4f2f-e1c7-85ea244665a4"
   },
   "outputs": [
    {
     "data": {
      "text/plain": [
       "Others                  409\n",
       "Loyal Customers         129\n",
       "Big Spenders            125\n",
       "Lost Cheap Customers     67\n",
       "Lost Customers           31\n",
       "Best Customers           30\n",
       "Almost Lost               2\n",
       "Name: Label, dtype: int64"
      ]
     },
     "execution_count": 34,
     "metadata": {},
     "output_type": "execute_result"
    }
   ],
   "source": [
    "# Count the frequency that a value occurs in a dataframe column for the labels.\n",
    "\n",
    "segmented_rfm['Label'].value_counts()"
   ]
  },
  {
   "cell_type": "code",
   "execution_count": 35,
   "id": "866338a9",
   "metadata": {
    "colab": {
     "base_uri": "https://localhost:8080/",
     "height": 237
    },
    "id": "866338a9",
    "outputId": "ebe585ed-9c06-487b-e7c4-3154599cb321"
   },
   "outputs": [
    {
     "data": {
      "text/html": [
       "<div>\n",
       "<style scoped>\n",
       "    .dataframe tbody tr th:only-of-type {\n",
       "        vertical-align: middle;\n",
       "    }\n",
       "\n",
       "    .dataframe tbody tr th {\n",
       "        vertical-align: top;\n",
       "    }\n",
       "\n",
       "    .dataframe thead th {\n",
       "        text-align: right;\n",
       "    }\n",
       "</style>\n",
       "<table border=\"1\" class=\"dataframe\">\n",
       "  <thead>\n",
       "    <tr style=\"text-align: right;\">\n",
       "      <th></th>\n",
       "      <th>Label</th>\n",
       "      <th>customer</th>\n",
       "      <th>percent</th>\n",
       "    </tr>\n",
       "  </thead>\n",
       "  <tbody>\n",
       "    <tr>\n",
       "      <th>1</th>\n",
       "      <td>Loyal Customers</td>\n",
       "      <td>129</td>\n",
       "      <td>33.59</td>\n",
       "    </tr>\n",
       "    <tr>\n",
       "      <th>2</th>\n",
       "      <td>Big Spenders</td>\n",
       "      <td>125</td>\n",
       "      <td>32.55</td>\n",
       "    </tr>\n",
       "    <tr>\n",
       "      <th>3</th>\n",
       "      <td>Lost Cheap Customers</td>\n",
       "      <td>67</td>\n",
       "      <td>17.45</td>\n",
       "    </tr>\n",
       "    <tr>\n",
       "      <th>4</th>\n",
       "      <td>Lost Customers</td>\n",
       "      <td>31</td>\n",
       "      <td>8.07</td>\n",
       "    </tr>\n",
       "    <tr>\n",
       "      <th>5</th>\n",
       "      <td>Best Customers</td>\n",
       "      <td>30</td>\n",
       "      <td>7.81</td>\n",
       "    </tr>\n",
       "    <tr>\n",
       "      <th>6</th>\n",
       "      <td>Almost Lost</td>\n",
       "      <td>2</td>\n",
       "      <td>0.52</td>\n",
       "    </tr>\n",
       "  </tbody>\n",
       "</table>\n",
       "</div>"
      ],
      "text/plain": [
       "                  Label  customer  percent\n",
       "1       Loyal Customers       129    33.59\n",
       "2          Big Spenders       125    32.55\n",
       "3  Lost Cheap Customers        67    17.45\n",
       "4        Lost Customers        31     8.07\n",
       "5        Best Customers        30     7.81\n",
       "6           Almost Lost         2     0.52"
      ]
     },
     "execution_count": 35,
     "metadata": {},
     "output_type": "execute_result"
    }
   ],
   "source": [
    "sq1=segmented_rfm.groupby('Label')['customer'].nunique().sort_values(ascending=False).reset_index()\n",
    "sq1.drop([0],inplace=True) # remove label others\n",
    "\n",
    "df_sq1 = pd.DataFrame(sq1)\n",
    "df_sq1['percent'] = round(((df_sq1['customer'] / df_sq1['customer'].sum()) * 100),2)\n",
    "\n",
    "df_sq1"
   ]
  },
  {
   "cell_type": "code",
   "execution_count": 36,
   "id": "5b721cb0",
   "metadata": {
    "colab": {
     "base_uri": "https://localhost:8080/",
     "height": 542
    },
    "id": "5b721cb0",
    "outputId": "d00593bc-a863-42c0-d6a0-9a424d641d3c"
   },
   "outputs": [
    {
     "data": {
      "text/html": [
       "<iframe\n",
       "    scrolling=\"no\"\n",
       "    width=\"100%\"\n",
       "    height=\"545px\"\n",
       "    src=\"iframe_figures/figure_36.html\"\n",
       "    frameborder=\"0\"\n",
       "    allowfullscreen\n",
       "></iframe>\n"
      ]
     },
     "metadata": {},
     "output_type": "display_data"
    },
    {
     "data": {
      "image/png": "[encoded data removed]"
     },
     "metadata": {},
     "output_type": "display_data"
    }
   ],
   "source": [
    "fig = go.Figure(data=[go.Bar(\n",
    "            x=df_sq1['Label'],\n",
    "            y=df_sq1['customer'],\n",
    "            text=df_sq1['percent'],\n",
    "            textposition='auto'\n",
    "        )])\n",
    "pyoff.iplot(fig)\n",
    "fig.show(renderer=\"png\")"
   ]
  },
  {
   "cell_type": "markdown",
   "id": "7Aq1dvlsF8bR",
   "metadata": {
    "id": "7Aq1dvlsF8bR"
   },
   "source": [
    "Based on the results of Customer segmentation using RFM Quartile, customers are divided into 6 segments. Namely, Loyal Customers, Big Spenders, Lost Cheap Customers, Lost Customers, Best Customers and Almost Lost.\n",
    "<br>\n",
    "33.59% from 384 customers or 129 customers are grouped into **Loyal Customers**. In this segment, customers have the highest order frequency than other segments.\n",
    "<br>\n",
    "33.59% from 384 customers or 125 customers are grouped into **Big Spenders**. In this segment, the customer has the highest total order than to other segments.\n",
    "<br>\n",
    "17.45% from 384 customers or 67 customers are grouped into **Lost Cheap Customers**. In this segment, customers are identified that churn because they haven't ordered for a long time, the frequency and total orders is also lower than other segments.\n",
    "<br>\n",
    "8.07% from 384 customers or 31 customers are grouped into **Lost Customers**. In this segment, the customers behavior are almost the same with the lost customers segment.\n",
    "<br>\n",
    "7.81% from 384 customers or 30 customers are grouped into **Best Customers**. In this segment the customers recently orders, has a high order frequency and a high total order too.\n",
    "<br>\n",
    "0.52% from 384 customers or 2 customers are grouped into **Almost Lost**. In this segment the customer recently orders but the order frequency and total of orders is low."
   ]
  },
  {
   "cell_type": "markdown",
   "id": "752ebeb8",
   "metadata": {
    "id": "752ebeb8"
   },
   "source": [
    "# Result"
   ]
  },
  {
   "cell_type": "markdown",
   "id": "F4QZve7zCDxA",
   "metadata": {
    "id": "F4QZve7zCDxA"
   },
   "source": [
    "- In **2011** total order reach out around 484.26K, then in **2012 it decreased** up to 2.83% so that there were only around 470.5K total products order. Meanwhile, in **2013 there was an increase** in orders reach out around 29.31% or total order up to 608.47K and in **2014 also an increase** of 20.63% so that the total order product reach out around 734K.\n",
    "- In **2011**, total orders around **484.26K**, which the **highest orders** occurred in September 2011 with growth up to **193.03%** meanwhile the **lowest orders** occurred in February 2011 with a decrease up to **65%**. \n",
    "- In **2012** total orders around **470.5K**, in this year (2012) there was a 2.8% **decrease** in orders.  Which the **highest orders** occurred in March 2012 with growth up to **215.04%** meanwhile the **lowest orders** occurred in January 2012 with a decrease up to **73.87%**.\n",
    "- In **2013** total orders around **608.47K**, in this year (2013) there was a 29.31% **increase** in orders.  Which the **highest orders** occurred in March 2013 with growth up to **215.04%** meanwhile the **lowest orders** occurred in January 2013 with a decrease up to **75.25%**. \n",
    "- In **2014** total orders around **734K**, in this year (2014) there was a 20.63% **increase** in orders.  Which the **highest orders** occurred in March 2014 with growth in orders of **165.77%** meanwhile the **lowest orders** occurred in January 2014 with a decrease up to **54.02%**. \n",
    "- The **highest total** orders from 2011 to 2014 occurred in November and December, while the **lowest total** orders from 2011 to 2014 occurred in January and February.\n",
    "- On three days at the beginning of the month, **1st and 3rd date** there was an **increase** in orders. Also in the middle of the month, which is on the 15th to 18th, there is also an increase in orders. Meanwhile on W4 which is the **24th to the 30th** there is a **decrease** in orders.\n",
    "- Based on the results of Customer segmentation using RFM Quartile, customers are divided into 6 segments. Namely, Loyal Customers, Big Spenders, Lost Cheap Customers, Lost Customers, Best Customers and Almost Lost.\n",
    "- 33.59% from 384 customers or 129 customers are grouped into **Loyal Customers**. In this segment, customers have the highest order frequency than other segments.\n",
    "- 33.59% from 384 customers or 125 customers are grouped into **Big Spenders**. In this segment, the customer has the highest total order than to other segments.\n",
    "- 45% from 384 customers or 67 customers are grouped into **Lost Cheap Customers**. In this segment, customers are identified that churn because they haven't ordered for a long time, the frequency and total orders is also lower than other segments.\n",
    "- 8.07% from 384 customers or 31 customers are grouped into **Lost Customers**. In this segment, the customers behavior are almost the same with the lost customers segment.\n",
    "- 7.81% from 384 customers or 30 customers are grouped into **Best Customers**. In this segment the customers recently orders, has a high order frequency and a high total order too.\n",
    "- 0.52% from 384 customers or 2 customers are grouped into **Almost Lost**. In this segment the customer recently orders but the order frequency and total of orders is low.\n",
    "\n"
   ]
  },
  {
   "cell_type": "markdown",
   "id": "496ee604",
   "metadata": {
    "id": "496ee604"
   },
   "source": [
    "# Recommendations"
   ]
  },
  {
   "cell_type": "markdown",
   "id": "NK96Tx0cXdMc",
   "metadata": {
    "id": "NK96Tx0cXdMc"
   },
   "source": [
    "We give recommendations for each segment. First, we recommend to **Loyal Customer** segment to maintain the engagement, increase the recency and monetary with create a program like **loyalty points** that increase purchase, giving customers cashback or free shipping voucher, make sale program when big event such as christmas, new year, black friday, etc. Offering product with expensive prices that they might want to buy. <br>\n",
    "Second, we recommend for **Big Spenders** segment to increase the loyalty by making loyalty points program, the points can be exchange with reward or other benefit, offering budling product that Big Spenders customers may like, that buy 2 or more product in package is cheaper than the total price every item combined. <br>\n",
    "Third, we recommend for **Lost Cheap Customer** segment, that this segment customers is churn. So, better focus on acquiring new customers. <br>\n",
    "Then, for **Lost Customer** segment in the verge of churn, decrease this segment by recommend things on sale that they buy in the past and focus on acquiring new customers. <br>\n",
    "And then for **Best Customer** segment to increase this segment by offering  products they like, purchased, and sale. Making loyalty points program, the points can be exchange with reward or other benefit that only Best Customer can get, such as different cashback and free shipping voucher than other customers. <br>\n",
    "The last, for **Almost Lost** segment, business team can increase frequency by recommend things that they may like or purchased and on sale. Giving them free shipping voucher with non-minimum purchase."
   ]
  }
 ],
 "metadata": {
  "colab": {
   "collapsed_sections": [],
   "provenance": []
  },
  "kernelspec": {
   "display_name": "Python 3 (ipykernel)",
   "language": "python",
   "name": "python3"
  },
  "language_info": {
   "codemirror_mode": {
    "name": "ipython",
    "version": 3
   },
   "file_extension": ".py",
   "mimetype": "text/x-python",
   "name": "python",
   "nbconvert_exporter": "python",
   "pygments_lexer": "ipython3",
   "version": "3.9.13"
  }
 },
 "nbformat": 4,
 "nbformat_minor": 5
}
